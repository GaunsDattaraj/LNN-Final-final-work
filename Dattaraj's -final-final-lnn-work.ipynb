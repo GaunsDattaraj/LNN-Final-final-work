{
 "cells": [
  {
   "cell_type": "code",
   "execution_count": 2,
   "id": "d7f7c534",
   "metadata": {},
   "outputs": [
    {
     "name": "stdout",
     "output_type": "stream",
     "text": [
      "success\n"
     ]
    }
   ],
   "source": [
    "from lnn import (Predicate, Variable,\n",
    "                 Exists, Implies, ForAll, Model, Fact, World)\n",
    "def test_1():\n",
    "  \n",
    "    x = Variable('x')\n",
    "    square = Predicate(name='square')\n",
    "    rectangle = Predicate(name='rectangle')\n",
    "    parallelograms = Predicate(name='parallelograms')\n",
    "    shapes = Predicate(name='shapes')\n",
    "    circles = Predicate(name='circles')\n",
    "    ellipses = Predicate(name='ellipses')\n",
    "    sides = Predicate(name='sides')\n",
    "    \n",
    "    \"\"\"all Squares are rectangles\"\"\"\n",
    "    square_rect = ForAll(x, Implies(square(x), rectangle(x),\n",
    "                                    name='square-rect'),\n",
    "                         name='all-square-rect', world=World.AXIOM)\n",
    "    \n",
    "    \"\"\"all rectangles are parallelograms\"\"\"\n",
    "    rectangle_parallelograms = ForAll(x, Implies(rectangle(x), parallelograms(x),\n",
    "                                    name='rectangle-parallelograms'),\n",
    "                         name='all-rectangle-parallelograms', world=World.AXIOM)\n",
    "    \n",
    "    \"\"\"all parallelograms are shapes\"\"\"\n",
    "    parallelograms_shapes = ForAll(x, Implies(parallelograms(x), shapes(x),\n",
    "                                    name='parallelograms-shapes'),\n",
    "                         name='all-parallelograms-shapes', world=World.AXIOM)\n",
    "    \n",
    "    \"\"\"ALl Circles are Ellipses\"\"\"\n",
    "    circles_ellipses = ForAll(x, Implies(circles(x), ellipses(x),\n",
    "                                    name='circles-ellipses'),\n",
    "                         name='all-circles-ellipses', world=World.AXIOM)\n",
    "    \n",
    "   \n",
    "    \"\"\"All ellipses are shapes\"\"\"\n",
    "    ellipses_shapes = ForAll(x, Implies(ellipses(x), shapes(x),\n",
    "                                    name='ellipses-shapes'),\n",
    "                         name='all-ellipses-shapes', world=World.AXIOM)\n",
    "    \n",
    "    rect_sides = ForAll(x, Implies(rectangle(x), sides(x),\n",
    "                                       name='rect-sides'),\n",
    "                            name='all-rect-sides', world=World.AXIOM)\n",
    "    query = Exists(x, sides(x), name='sided_objects')\n",
    "   \n",
    "    model = Model()\n",
    "    model.add_formulae(square, rectangle, square_rect, rectangle_parallelograms,parallelograms_shapes,circles_ellipses,ellipses_shapes,rect_sides, query)\n",
    "    model.add_facts({'square': {'c': Fact.TRUE, 'k': Fact.TRUE}})\n",
    "    steps, facts_inferred = model.infer()\n",
    "    # Currently finishes in 4 inference steps\n",
    "    assert steps == 4, \"FAILED :pensive:\"\n",
    "    GT_o = dict([\n",
    "        (('c'), Fact.TRUE),\n",
    "        (('k'), Fact.TRUE)])\n",
    "    assert all([model['sided_objects'].state(groundings=g) is GT_o[g]\n",
    "                for g in GT_o]), \"FAILED :pensive:\"\n",
    "if __name__ == \"__main__\":\n",
    "    test_1()\n",
    "    print('success')"
   ]
  },
  {
   "cell_type": "code",
   "execution_count": null,
   "id": "22f11def",
   "metadata": {},
   "outputs": [],
   "source": []
  },
  {
   "cell_type": "code",
   "execution_count": null,
   "id": "20566ea1",
   "metadata": {},
   "outputs": [],
   "source": []
  },
  {
   "cell_type": "code",
   "execution_count": null,
   "id": "3c157f05",
   "metadata": {},
   "outputs": [],
   "source": []
  },
  {
   "cell_type": "code",
   "execution_count": null,
   "id": "2fd64c83",
   "metadata": {},
   "outputs": [],
   "source": []
  }
 ],
 "metadata": {
  "kernelspec": {
   "display_name": "Python 3 (ipykernel)",
   "language": "python",
   "name": "python3"
  },
  "language_info": {
   "codemirror_mode": {
    "name": "ipython",
    "version": 3
   },
   "file_extension": ".py",
   "mimetype": "text/x-python",
   "name": "python",
   "nbconvert_exporter": "python",
   "pygments_lexer": "ipython3",
   "version": "3.9.7"
  }
 },
 "nbformat": 4,
 "nbformat_minor": 5
}
